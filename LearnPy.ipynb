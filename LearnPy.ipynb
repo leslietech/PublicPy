{
  "nbformat": 4,
  "nbformat_minor": 0,
  "metadata": {
    "colab": {
      "name": "LearnPy.ipynb",
      "version": "0.3.2",
      "provenance": [],
      "include_colab_link": true
    },
    "kernelspec": {
      "name": "python3",
      "display_name": "Python 3"
    }
  },
  "cells": [
    {
      "cell_type": "markdown",
      "metadata": {
        "id": "view-in-github",
        "colab_type": "text"
      },
      "source": [
        "<a href=\"https://colab.research.google.com/github/leslietech/PublicPy/blob/master/LearnPy.ipynb\" target=\"_parent\"><img src=\"https://colab.research.google.com/assets/colab-badge.svg\" alt=\"Open In Colab\"/></a>"
      ]
    },
    {
      "cell_type": "code",
      "metadata": {
        "id": "2QvbxIEnNEcv",
        "colab_type": "code",
        "colab": {
          "base_uri": "https://localhost:8080/",
          "height": 204
        },
        "outputId": "215fdbe1-33e0-4e5b-da2e-6cde7483cfd5"
      },
      "source": [
        "# Squares\n",
        "def squd():\n",
        "  x = 1\n",
        "  for i in range(1,14):\n",
        "    if x < 12:\n",
        "      print(x,'squared is',x * x)\n",
        "    x = x + 1\n",
        "squd()"
      ],
      "execution_count": 19,
      "outputs": [
        {
          "output_type": "stream",
          "text": [
            "1 squared is 1\n",
            "2 squared is 4\n",
            "3 squared is 9\n",
            "4 squared is 16\n",
            "5 squared is 25\n",
            "6 squared is 36\n",
            "7 squared is 49\n",
            "8 squared is 64\n",
            "9 squared is 81\n",
            "10 squared is 100\n",
            "11 squared is 121\n"
          ],
          "name": "stdout"
        }
      ]
    },
    {
      "cell_type": "code",
      "metadata": {
        "id": "T-sK3YH8R0zB",
        "colab_type": "code",
        "colab": {
          "base_uri": "https://localhost:8080/",
          "height": 340
        },
        "outputId": "fae91d9d-fd18-404c-a020-2e9dba4f8565"
      },
      "source": [
        "# Squares using random numbers.\n",
        "import random\n",
        "def sqd():\n",
        "  x = 1\n",
        "  for i in range(1,20):\n",
        "    y = random.randint(1,20)\n",
        "    if x < 21:\n",
        "      print(y,'squared is',y * y)\n",
        "      x = x + 1\n",
        "sqd()"
      ],
      "execution_count": 20,
      "outputs": [
        {
          "output_type": "stream",
          "text": [
            "7 squared is 49\n",
            "13 squared is 169\n",
            "7 squared is 49\n",
            "14 squared is 196\n",
            "4 squared is 16\n",
            "11 squared is 121\n",
            "8 squared is 64\n",
            "12 squared is 144\n",
            "15 squared is 225\n",
            "14 squared is 196\n",
            "17 squared is 289\n",
            "19 squared is 361\n",
            "13 squared is 169\n",
            "12 squared is 144\n",
            "2 squared is 4\n",
            "3 squared is 9\n",
            "6 squared is 36\n",
            "11 squared is 121\n",
            "15 squared is 225\n"
          ],
          "name": "stdout"
        }
      ]
    }
  ]
}